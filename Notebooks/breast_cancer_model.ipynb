{
  "nbformat": 4,
  "nbformat_minor": 0,
  "metadata": {
    "colab": {
      "provenance": []
    },
    "kernelspec": {
      "name": "python3",
      "display_name": "Python 3"
    },
    "language_info": {
      "name": "python"
    }
  },
  "cells": [
    {
      "cell_type": "markdown",
      "source": [
        "## Import required libraries"
      ],
      "metadata": {
        "id": "5_DRKDJaJ4BH"
      }
    },
    {
      "cell_type": "code",
      "execution_count": 1,
      "metadata": {
        "id": "t4fi-bu8s4ao"
      },
      "outputs": [],
      "source": [
        "import torch\n",
        "import torch.nn as nn\n",
        "import torch.optim as optim\n",
        "import numpy as np\n",
        "from sklearn.datasets import load_breast_cancer\n",
        "from sklearn.model_selection import train_test_split\n",
        "from sklearn.preprocessing import StandardScaler\n",
        "from sklearn.metrics import confusion_matrix, roc_curve, auc, ConfusionMatrixDisplay\n",
        "import matplotlib.pyplot as plt\n",
        "import joblib"
      ]
    },
    {
      "cell_type": "code",
      "source": [
        "# Checking for GPU availability\n",
        "device = torch.device(\"cuda\" if torch.cuda.is_available() else \"cpu\")\n",
        "print(f\"Using device: {device}\")"
      ],
      "metadata": {
        "colab": {
          "base_uri": "https://localhost:8080/"
        },
        "id": "Q87UKDKgKAvo",
        "outputId": "523d726a-cf2d-4dab-e002-ae42f0ecd957"
      },
      "execution_count": 2,
      "outputs": [
        {
          "output_type": "stream",
          "name": "stdout",
          "text": [
            "Using device: cpu\n"
          ]
        }
      ]
    },
    {
      "cell_type": "code",
      "source": [
        "# Step 1: Loading the dataset\n",
        "data = load_breast_cancer()\n",
        "X, Y = data.data, data.target  # Features and target\n",
        "print(\"Shape of X:\", X.shape)\n",
        "print(\"Shape of Y:\", Y.shape)"
      ],
      "metadata": {
        "colab": {
          "base_uri": "https://localhost:8080/"
        },
        "id": "EYqUITTlKLun",
        "outputId": "115f1a1d-92f7-486e-ca3b-e21cc36d3687"
      },
      "execution_count": 3,
      "outputs": [
        {
          "output_type": "stream",
          "name": "stdout",
          "text": [
            "Shape of X: (569, 30)\n",
            "Shape of Y: (569,)\n"
          ]
        }
      ]
    },
    {
      "cell_type": "code",
      "source": [
        "#  Train-test split\n",
        "X_train, X_test, Y_train, Y_test = train_test_split(X, Y, test_size=0.2, random_state=42)"
      ],
      "metadata": {
        "id": "lyXdHaoyKUL3"
      },
      "execution_count": 4,
      "outputs": []
    },
    {
      "cell_type": "code",
      "source": [
        "# Standardizing(scaling) the features\n",
        "scaler = StandardScaler()\n",
        "X_train = scaler.fit_transform(X_train)\n",
        "X_test = scaler.transform(X_test)"
      ],
      "metadata": {
        "id": "OJg7WYm_KdAx"
      },
      "execution_count": 5,
      "outputs": []
    },
    {
      "cell_type": "code",
      "source": [
        "# Converting data into Pytorch tensors\n",
        "X_train = torch.tensor(X_train, dtype=torch.float32).to(device)\n",
        "Y_train = torch.tensor(Y_train, dtype=torch.float32).to(device)\n",
        "X_test = torch.tensor(X_test, dtype=torch.float32).to(device)\n",
        "Y_test = torch.tensor(Y_test, dtype=torch.float32).to(device)"
      ],
      "metadata": {
        "id": "4xVylGPCKi0N"
      },
      "execution_count": 6,
      "outputs": []
    },
    {
      "cell_type": "markdown",
      "source": [
        "## Building Neural Network"
      ],
      "metadata": {
        "id": "EzvgPQpDK4D_"
      }
    },
    {
      "cell_type": "code",
      "source": [
        "class NeuralNet(nn.Module):\n",
        "    def __init__(self, input_size, hidden_size, output_size):\n",
        "        super(NeuralNet, self).__init__()\n",
        "        self.fc1 = nn.Linear(input_size, hidden_size)\n",
        "        self.relu = nn.ReLU()\n",
        "        self.fc2 = nn.Linear(hidden_size, output_size)\n",
        "        self.sigmoid = nn.Sigmoid()\n",
        "\n",
        "    def forward(self, x):\n",
        "        out = self.fc1(x)\n",
        "        out = self.relu(out)\n",
        "        out = self.fc2(out)\n",
        "        out = self.sigmoid(out)\n",
        "        return out"
      ],
      "metadata": {
        "id": "Fgos4iQ3K8hI"
      },
      "execution_count": 7,
      "outputs": []
    },
    {
      "cell_type": "code",
      "source": [
        "#Initalizing the Hyperparameters\n",
        "input_size = X_train.shape[1]  # 30 features\n",
        "hidden_size = 64\n",
        "output_size = 1\n",
        "learning_rate = 0.001\n",
        "num_epochs = 100"
      ],
      "metadata": {
        "id": "DkvBMlvBLBbj"
      },
      "execution_count": 8,
      "outputs": []
    },
    {
      "cell_type": "code",
      "source": [
        "# Initializing the model\n",
        "model = NeuralNet(input_size, hidden_size, output_size).to(device)"
      ],
      "metadata": {
        "id": "QTacZL_JLJTP"
      },
      "execution_count": 9,
      "outputs": []
    },
    {
      "cell_type": "code",
      "source": [
        "# Loss and optimizer\n",
        "criterion = nn.BCELoss()\n",
        "optimizer = optim.Adam(model.parameters(), lr=learning_rate)"
      ],
      "metadata": {
        "id": "sRXD8_ITLNSf"
      },
      "execution_count": 10,
      "outputs": []
    },
    {
      "cell_type": "markdown",
      "source": [
        "# Training the Model"
      ],
      "metadata": {
        "id": "t67ilaV0LTkA"
      }
    },
    {
      "cell_type": "code",
      "source": [
        "training_losses = []\n",
        "\n",
        "for epoch in range(num_epochs):\n",
        "    model.train()\n",
        "    optimizer.zero_grad()\n",
        "\n",
        "    outputs = model(X_train)\n",
        "    loss = criterion(outputs, Y_train.view(-1,1))\n",
        "    loss.backward()\n",
        "    optimizer.step()\n",
        "\n",
        "    training_losses.append(loss.item())\n",
        "\n",
        "    # Calculate accuracy\n",
        "    with torch.no_grad():\n",
        "        predicted = outputs.round()\n",
        "        correct = (predicted == Y_train.view(-1,1)).float().sum()\n",
        "        accuracy = correct / Y_train.size(0)\n",
        "\n",
        "    if (epoch+1) % 10 == 0:\n",
        "        print(f\"Epoch [{epoch+1}/{num_epochs}], Loss: {loss.item():.4f}, Accuracy: {accuracy.item()*100:.2f}%\")\n"
      ],
      "metadata": {
        "colab": {
          "base_uri": "https://localhost:8080/"
        },
        "id": "5GcZuf2BLR7W",
        "outputId": "de582c08-c61f-4e0f-bbc3-ecc67794c9dc"
      },
      "execution_count": 11,
      "outputs": [
        {
          "output_type": "stream",
          "name": "stdout",
          "text": [
            "Epoch [10/100], Loss: 0.5037, Accuracy: 89.45%\n",
            "Epoch [20/100], Loss: 0.3916, Accuracy: 92.75%\n",
            "Epoch [30/100], Loss: 0.3088, Accuracy: 93.63%\n",
            "Epoch [40/100], Loss: 0.2482, Accuracy: 94.07%\n",
            "Epoch [50/100], Loss: 0.2047, Accuracy: 95.38%\n",
            "Epoch [60/100], Loss: 0.1736, Accuracy: 95.60%\n",
            "Epoch [70/100], Loss: 0.1508, Accuracy: 96.70%\n",
            "Epoch [80/100], Loss: 0.1335, Accuracy: 97.36%\n",
            "Epoch [90/100], Loss: 0.1201, Accuracy: 97.58%\n",
            "Epoch [100/100], Loss: 0.1094, Accuracy: 97.80%\n"
          ]
        }
      ]
    },
    {
      "cell_type": "markdown",
      "source": [
        "# Evaluating on the Test data"
      ],
      "metadata": {
        "id": "SJadiGTPLbMf"
      }
    },
    {
      "cell_type": "code",
      "source": [
        "model.eval()\n",
        "with torch.no_grad():\n",
        "    outputs = model(X_test)\n",
        "    predicted = outputs.round()\n",
        "    correct = (predicted == Y_test.view(-1,1)).float().sum()\n",
        "    test_accuracy = correct / Y_test.size(0)\n",
        "    print(f\"Test Accuracy: {test_accuracy.item()*100:.2f}%\")"
      ],
      "metadata": {
        "colab": {
          "base_uri": "https://localhost:8080/"
        },
        "id": "L4fLEc_TLagP",
        "outputId": "9cfb1926-8945-4229-b3f3-31f62c7a7616"
      },
      "execution_count": 12,
      "outputs": [
        {
          "output_type": "stream",
          "name": "stdout",
          "text": [
            "Test Accuracy: 98.25%\n"
          ]
        }
      ]
    },
    {
      "cell_type": "markdown",
      "source": [
        "# Confusion Matrix"
      ],
      "metadata": {
        "id": "vRq4433VLpZS"
      }
    },
    {
      "cell_type": "code",
      "source": [
        "cm = confusion_matrix(Y_test.cpu().numpy(), predicted.cpu().numpy())\n",
        "disp = ConfusionMatrixDisplay(cm, display_labels=[\"Malignant\", \"Benign\"])\n",
        "disp.plot(cmap=plt.cm.Blues)\n",
        "plt.title(\"Confusion Matrix\")\n",
        "plt.savefig(\"confusion_matrix.png\")\n",
        "plt.show()"
      ],
      "metadata": {
        "colab": {
          "base_uri": "https://localhost:8080/",
          "height": 472
        },
        "id": "LwAyqsjFLoH3",
        "outputId": "b288428b-618a-4039-ebcd-e90e3a904499"
      },
      "execution_count": 13,
      "outputs": [
        {
          "output_type": "display_data",
          "data": {
            "text/plain": [
              "<Figure size 640x480 with 2 Axes>"
            ],
            "image/png": "[encoded data removed]"
          },
          "metadata": {}
        }
      ]
    },
    {
      "cell_type": "markdown",
      "source": [
        "# ROC Curve"
      ],
      "metadata": {
        "id": "6sck53BkLtQv"
      }
    },
    {
      "cell_type": "code",
      "source": [
        "outputs_np = outputs.cpu().numpy()\n",
        "fpr, tpr, _ = roc_curve(Y_test.cpu().numpy(), outputs_np)\n",
        "roc_auc = auc(fpr, tpr)\n",
        "\n",
        "plt.figure()\n",
        "plt.plot(fpr, tpr, color='blue', lw=2, label=f'ROC curve (AUC = {roc_auc:.2f})')\n",
        "plt.plot([0,1],[0,1], color='red', linestyle='--')\n",
        "plt.xlabel(\"False Positive Rate\")\n",
        "plt.ylabel(\"True Positive Rate\")\n",
        "plt.title(\"ROC Curve\")\n",
        "plt.legend(loc=\"lower right\")\n",
        "plt.savefig(\"roc_curve.png\")\n",
        "plt.show()"
      ],
      "metadata": {
        "colab": {
          "base_uri": "https://localhost:8080/",
          "height": 472
        },
        "id": "rWVmLA7kLsp_",
        "outputId": "c49df47b-ab98-4328-c858-feca1ff32387"
      },
      "execution_count": 14,
      "outputs": [
        {
          "output_type": "display_data",
          "data": {
            "text/plain": [
              "<Figure size 640x480 with 1 Axes>"
            ],
            "image/png": "[encoded data removed]"
          },
          "metadata": {}
        }
      ]
    },
    {
      "cell_type": "markdown",
      "source": [
        "# Training Loss Curve"
      ],
      "metadata": {
        "id": "NKECWJf3LyUw"
      }
    },
    {
      "cell_type": "code",
      "source": [
        "plt.figure()\n",
        "plt.plot(range(1, num_epochs+1), training_losses, label=\"Training Loss\")\n",
        "plt.xlabel(\"Epoch\")\n",
        "plt.ylabel(\"Loss\")\n",
        "plt.title(\"Training Loss Curve\")\n",
        "plt.legend()\n",
        "plt.savefig(\"training_curve.png\")\n",
        "plt.show()"
      ],
      "metadata": {
        "colab": {
          "base_uri": "https://localhost:8080/",
          "height": 472
        },
        "id": "75COjihCLy4Y",
        "outputId": "7a7b7472-2f19-4109-9d1c-ad1f3b5f4397"
      },
      "execution_count": 15,
      "outputs": [
        {
          "output_type": "display_data",
          "data": {
            "text/plain": [
              "<Figure size 640x480 with 1 Axes>"
            ],
            "image/png": "[encoded data removed]"
          },
          "metadata": {}
        }
      ]
    },
    {
      "cell_type": "code",
      "source": [
        "#Save model and scaler\n",
        "torch.save(model.state_dict(), \"breast_cancer_model.pth\")\n",
        "joblib.dump(scaler, \"scaler.pkl\")\n",
        "print(\"✅ Training complete. Model, scaler and plots saved successfully!\")"
      ],
      "metadata": {
        "colab": {
          "base_uri": "https://localhost:8080/"
        },
        "id": "0I_UAYIbL32b",
        "outputId": "fb32aca1-246c-4e72-977f-00c15a7757d9"
      },
      "execution_count": 16,
      "outputs": [
        {
          "output_type": "stream",
          "name": "stdout",
          "text": [
            "✅ Training complete. Model, scaler and plots saved successfully!\n"
          ]
        }
      ]
    },
    {
      "cell_type": "markdown",
      "source": [
        "## Testing Model on training and new data"
      ],
      "metadata": {
        "id": "mEHuFsVFNMy_"
      }
    },
    {
      "cell_type": "code",
      "source": [
        "def predict_cancer(model, input_data):\n",
        "    \"\"\"\n",
        "    Correct mapping according to sklearn:\n",
        "    0 = Malignant, 1 = Benign\n",
        "    \"\"\"\n",
        "    model.eval()\n",
        "\n",
        "    # Convert to tensor if input is numpy array\n",
        "    if isinstance(input_data, np.ndarray):\n",
        "        input_tensor = torch.from_numpy(input_data.astype(np.float32)).unsqueeze(0).to(device)\n",
        "    elif isinstance(input_data, torch.Tensor):\n",
        "        input_tensor = input_data.unsqueeze(0).to(device)  # add batch dimension\n",
        "    else:\n",
        "        raise ValueError(\"Input data must be a numpy array or torch tensor\")\n",
        "\n",
        "    with torch.no_grad():\n",
        "        output = model(input_tensor)\n",
        "        probability = output.item()  # probability for class 1 (Benign)\n",
        "        prediction = round(probability)\n",
        "\n",
        "    # Adjust labels\n",
        "    if prediction == 1:\n",
        "        return f\"Prediction: Benign (Probability: {probability:.4f})\"\n",
        "    else:\n",
        "        return f\"Prediction: Malignant (Probability: {1-probability:.4f})\""
      ],
      "metadata": {
        "id": "3moB-mUvNSpH"
      },
      "execution_count": 17,
      "outputs": []
    },
    {
      "cell_type": "code",
      "source": [
        "for i in range(5):  # first 5 samples from training data\n",
        "    sample_input = X_test[i]\n",
        "    sample_label = Y_test[i]\n",
        "    result = predict_cancer(model, sample_input)\n",
        "    print(f\"Sample {i+1}: Actual: {'Malignant' if sample_label==1 else 'Benign'}, Predicted: {result}\")"
      ],
      "metadata": {
        "colab": {
          "base_uri": "https://localhost:8080/"
        },
        "id": "nSzUZYmGNXln",
        "outputId": "3552e221-817f-4225-cc2c-6e45fd1ff235"
      },
      "execution_count": 19,
      "outputs": [
        {
          "output_type": "stream",
          "name": "stdout",
          "text": [
            "Sample 1: Actual: Malignant, Predicted: Prediction: Benign (Probability: 0.7841)\n",
            "Sample 2: Actual: Benign, Predicted: Prediction: Malignant (Probability: 0.9865)\n",
            "Sample 3: Actual: Benign, Predicted: Prediction: Malignant (Probability: 0.9278)\n",
            "Sample 4: Actual: Malignant, Predicted: Prediction: Benign (Probability: 0.9436)\n",
            "Sample 5: Actual: Malignant, Predicted: Prediction: Benign (Probability: 0.9728)\n"
          ]
        }
      ]
    },
    {
      "cell_type": "code",
      "source": [
        "# new raw data (list of 30 feature values)\n",
        "new_sample = [\n",
        "9.504, 12.44, 60.34, 273.9, 0.1024, 0.06492, 0.02956, 0.02076, 0.1815, 0.06905,\n",
        "0.2773, 0.9768, 1.909, 15.7, 0.009606, 0.01432, 0.01985, 0.01421, 0.02027, 0.002968,\n",
        "10.23, 15.66, 65.13, 314.9, 0.1324, 0.1148, 0.08867, 0.06227, 0.245, 0.07773\n",
        "]\n",
        "\n",
        "\n",
        "# Converting to numpy array and scale\n",
        "import numpy as np\n",
        "new_data_scaled = scaler.transform([new_sample])  # shape (1,30)\n",
        "\n",
        "# Make prediction\n",
        "result = predict_cancer(model, new_data_scaled[0])\n",
        "print(result)"
      ],
      "metadata": {
        "colab": {
          "base_uri": "https://localhost:8080/"
        },
        "id": "pm70pFCbN5tw",
        "outputId": "b7691354-42cd-4032-eff2-90de9e7faee8"
      },
      "execution_count": 20,
      "outputs": [
        {
          "output_type": "stream",
          "name": "stdout",
          "text": [
            "Prediction: Benign (Probability: 0.9963)\n"
          ]
        }
      ]
    },
    {
      "cell_type": "code",
      "source": [
        "new_sample_1 = [\n",
        "15.34, 14.26, 102.5, 704.4, 0.1073, 0.2135, 0.2077, 0.09756, 0.2521, 0.07032,\n",
        "0.4388, 0.7096, 3.384, 44.91, 0.006789, 0.05328, 0.06446, 0.02252, 0.03672, 0.004394,\n",
        "18.07, 19.08, 125.1, 980.9, 0.139, 0.5954, 0.6305, 0.2393, 0.4667, 0.09946\n",
        "]\n",
        "\n",
        "# Convert to numpy array and scale\n",
        "import numpy as np\n",
        "new_data_scaled = scaler.transform([new_sample_1])  # shape (1,30)\n",
        "\n",
        "# Make prediction\n",
        "result = predict_cancer(model, new_data_scaled[0])\n",
        "print(result)"
      ],
      "metadata": {
        "colab": {
          "base_uri": "https://localhost:8080/"
        },
        "id": "IIlt4Zx2OSr-",
        "outputId": "22d4aa15-64cf-4cda-8e00-15bfcc47a7b0"
      },
      "execution_count": 21,
      "outputs": [
        {
          "output_type": "stream",
          "name": "stdout",
          "text": [
            "Prediction: Malignant (Probability: 0.9532)\n"
          ]
        }
      ]
    }
  ]
}